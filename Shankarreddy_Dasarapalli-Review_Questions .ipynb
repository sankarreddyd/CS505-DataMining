{
 "cells": [
  {
   "cell_type": "markdown",
   "id": "21cdfa0a-8b5f-4fc0-9c1b-b346960ed4d3",
   "metadata": {},
   "source": [
    "## 1. Define the following matrices and perform the following operations:\n",
    "● Matrix A: [[ 3.7827, 3.3454, 3.2341 ], [ 2.2122, 3.5678, 3.9087 ], [1.1234, 2.8934, 5.9087]]\n",
    "● Matrix B: [[ 3.1234, 3.0987, 3.1234 ], [ 2.1111, 3.2222, 3.3333 ], [1.0987, 1.3456, 5.1234]]\n",
    "● Matrix C: [[ 3.1243, 3.0989, 3.1256 ], [ 2.6721, 3.6785, 3.9017 ], [1.1254, 2.8956, 5.9187]]\n",
    "Perform matrix addition using Python lists and NumPy."
   ]
  },
  {
   "cell_type": "markdown",
   "id": "81309a7a-e647-4a4b-bc9d-d6ecd042f00c",
   "metadata": {},
   "source": [
    "## I). Perform matrix addition using Python Lists:\n",
    "Matrix addition is performed element-wise by adding corresponding elements from each matrix. Using Python lists, this involves iterating through each element and summing them manually."
   ]
  },
  {
   "cell_type": "code",
   "execution_count": 36,
   "id": "495d73e6-c03e-430d-be40-52bd2d8c95e1",
   "metadata": {},
   "outputs": [
    {
     "name": "stdout",
     "output_type": "stream",
     "text": [
      "Matrix C (A + B):\n",
      "[6.9061, 6.444100000000001, 6.3575]\n",
      "[4.3233, 6.79, 7.242]\n",
      "[2.2221, 4.239, 11.0321]\n"
     ]
    }
   ],
   "source": [
    "# Defining Matrix A and B as nested lists\n",
    "matrix_a = [\n",
    "    [3.7827, 3.3454, 3.2341],\n",
    "    [2.2122, 3.5678, 3.9087],\n",
    "    [1.1234, 2.8934, 5.9087]\n",
    "]\n",
    "matrix_b = [\n",
    "    [3.1234, 3.0987, 3.1234],\n",
    "    [2.1111, 3.2222, 3.3333],\n",
    "    [1.0987, 1.3456, 5.1234]\n",
    "]\n",
    "\n",
    "# Initialize Matrix C for addition\n",
    "matrix_c = []\n",
    "\n",
    "# Perform matrix addition\n",
    "for i in range(len(matrix_a)):\n",
    "    row = []  # Create an empty row for Matrix C\n",
    "    for j in range(len(matrix_a[0])):\n",
    "        row.append(matrix_a[i][j] + matrix_b[i][j])  # Add corresponding elements\n",
    "    matrix_c.append(row)  # Append the row to Matrix C\n",
    "\n",
    "# Display Matrix C\n",
    "print(\"Matrix C (A + B):\")\n",
    "for row in matrix_c:\n",
    "    print(row)  # Corrected indentation\n"
   ]
  },
  {
   "cell_type": "raw",
   "id": "0696445a-b862-4ef9-ac19-74bc4853f6ff",
   "metadata": {},
   "source": [
    "Matrices A and B are initialized as nested lists.\n",
    "● Each element in Matrix C is calculated by summing the corresponding elements in\n",
    "Matrix A and Matrix B.\n",
    "● The loops iterate over the rows and columns to perform the addition."
   ]
  },
  {
   "cell_type": "markdown",
   "id": "6d64da09-c846-43a4-8faf-3e5a5b220cdf",
   "metadata": {},
   "source": [
    "## II). Perform matrix addition using NumPy:\n",
    "Using NumPy, matrix addition can be performed directly using the + operator, which is overloaded to perform element-wise addition on arrays."
   ]
  },
  {
   "cell_type": "code",
   "execution_count": 38,
   "id": "f30a77d6-a8e6-4e90-9c2f-3be57c4158f8",
   "metadata": {},
   "outputs": [
    {
     "name": "stdout",
     "output_type": "stream",
     "text": [
      "Matrix C (A + B) using NumPy:\n",
      "[[ 6.9061  6.4441  6.3575]\n",
      " [ 4.3233  6.79    7.242 ]\n",
      " [ 2.2221  4.239  11.0321]]\n"
     ]
    }
   ],
   "source": [
    "import numpy as np\n",
    "# Creating matrices A and B using numpy.array\n",
    "matrix_a = np.array([\n",
    "    [3.7827, 3.3454, 3.2341],\n",
    "    [2.2122, 3.5678, 3.9087],\n",
    "    [1.1234, 2.8934, 5.9087]\n",
    "])\n",
    "matrix_b = np.array([\n",
    "    [3.1234, 3.0987, 3.1234],\n",
    "    [2.1111, 3.2222, 3.3333],\n",
    "    [1.0987, 1.3456, 5.1234]\n",
    "])\n",
    "# Matrix addition using NumPy's + operator\n",
    "matrix_c = matrix_a + matrix_b\n",
    "# Display the result\n",
    "print(\"Matrix C (A + B) using NumPy:\")\n",
    "print(matrix_c)\n"
   ]
  },
  {
   "cell_type": "raw",
   "id": "28d15923-3be2-4649-9804-f4223ec14ac8",
   "metadata": {},
   "source": [
    " Matrices A and B are initialized as NumPy arrays.\n",
    "● The addition is performed using the + operator, which NumPy overloads for array\n",
    "operations."
   ]
  },
  {
   "cell_type": "markdown",
   "id": "4f340e94-a0a6-4b37-92c8-4f9e266484c1",
   "metadata": {},
   "source": [
    "## 2. Write a Python Program and perform the following operations:\n",
    "I. Create a List {1225, 4986, 6789, 7890, 2345, 6783, 987, 1234, 8765, 3456}\n",
    "II. Iterate using a for loop\n",
    "III. Iterate using a for loop and range IV. List Comprehension\n",
    "V. Enumerate\n",
    "VI. Iter function and next function VII. Map function\n",
    "VIII. Using zip\n",
    "IX. Using NumPy Module"
   ]
  },
  {
   "cell_type": "raw",
   "id": "21a09584-404b-4315-9b92-aad510c456c1",
   "metadata": {},
   "source": [
    "I. Create a List\n",
    "A list in Python is an ordered collection of elements. Lists can be created using square brackets [] with elements separated by commas."
   ]
  },
  {
   "cell_type": "code",
   "execution_count": 40,
   "id": "e70664a5-53ca-4a36-b622-5194f4b2b4e4",
   "metadata": {},
   "outputs": [
    {
     "name": "stdout",
     "output_type": "stream",
     "text": [
      "List Created: [1225, 4986, 6789, 7890, 2345, 6783, 987, 1234, 8765, 3456]\n"
     ]
    }
   ],
   "source": [
    "# Creating the list using square brackets\n",
    "my_list = [1225, 4986, 6789, 7890, 2345, 6783, 987, 1234, 8765, 3456]\n",
    "print(\"List Created:\", my_list)"
   ]
  },
  {
   "cell_type": "raw",
   "id": "02613c42-4a73-43d8-bc60-9e4330f9a2cc",
   "metadata": {},
   "source": [
    "The list is created using square brackets, which is the most straightforward method of creating lists in Python."
   ]
  },
  {
   "cell_type": "raw",
   "id": "c8b5ff79-40c1-4cf0-bf12-16bbdb74e2ea",
   "metadata": {},
   "source": [
    "II. Iterate using a for loop\n",
    "A for loop is used to iterate over each element in a list, allowing operations to be performed on each element."
   ]
  },
  {
   "cell_type": "code",
   "execution_count": 41,
   "id": "6bde582a-363a-41a4-98cd-df68a40dffdb",
   "metadata": {},
   "outputs": [
    {
     "name": "stdout",
     "output_type": "stream",
     "text": [
      "Current element: 1225\n",
      "Current element: 4986\n",
      "Current element: 6789\n",
      "Current element: 7890\n",
      "Current element: 2345\n",
      "Current element: 6783\n",
      "Current element: 987\n",
      "Current element: 1234\n",
      "Current element: 8765\n",
      "Current element: 3456\n"
     ]
    }
   ],
   "source": [
    "# Traditional for loop with a print statement inside\n",
    "for element in my_list:\n",
    "    print(f\"Current element: {element}\")"
   ]
  },
  {
   "cell_type": "raw",
   "id": "6a128263-0078-413c-9678-2f509ae6225a",
   "metadata": {},
   "source": [
    " The loop iterates over each element in the list, printing the current element"
   ]
  },
  {
   "cell_type": "raw",
   "id": "6d2b89de-c24c-4536-af1a-4abfbb4da1c4",
   "metadata": {},
   "source": [
    "III. Iterate using a for loop and range\n",
    "The range() function generates a sequence of numbers, which can be used to iterate over list indices."
   ]
  },
  {
   "cell_type": "code",
   "execution_count": 42,
   "id": "a436fd78-a148-4de9-b711-518282bf3236",
   "metadata": {},
   "outputs": [
    {
     "name": "stdout",
     "output_type": "stream",
     "text": [
      "Element at index 0: 1225\n",
      "Element at index 1: 4986\n",
      "Element at index 2: 6789\n",
      "Element at index 3: 7890\n",
      "Element at index 4: 2345\n",
      "Element at index 5: 6783\n",
      "Element at index 6: 987\n",
      "Element at index 7: 1234\n",
      "Element at index 8: 8765\n",
      "Element at index 9: 3456\n"
     ]
    }
   ],
   "source": [
    "# Using range with len() to iterate through the list indices\n",
    "for i in range(len(my_list)):\n",
    "    print(f\"Element at index {i}: {my_list[i]}\")"
   ]
  },
  {
   "cell_type": "raw",
   "id": "51a1b747-5331-45af-a5df-0309adeccfb4",
   "metadata": {},
   "source": [
    "This approach uses the list's length to iterate over indices, allowing both the index and the element to be accessed."
   ]
  },
  {
   "cell_type": "raw",
   "id": "6dc67e57-5fde-4823-8c0f-4c800810e167",
   "metadata": {},
   "source": [
    "IV. List Comprehension\n",
    "List comprehension provides a concise way to create lists and apply operations on elements, often replacing loops with a single line of code."
   ]
  },
  {
   "cell_type": "code",
   "execution_count": 43,
   "id": "21e589af-e44f-4ed3-b8e4-d94374d6f51e",
   "metadata": {},
   "outputs": [
    {
     "name": "stdout",
     "output_type": "stream",
     "text": [
      "List after adding 500 to each element: [1725, 5486, 7289, 8390, 2845, 7283, 1487, 1734, 9265, 3956]\n"
     ]
    }
   ],
   "source": [
    "# Create a new list where each element is increased by 500\n",
    "incremented_list = [x + 500 for x in my_list]\n",
    "print(\"List after adding 500 to each element:\", incremented_list)"
   ]
  },
  {
   "cell_type": "raw",
   "id": "c6abb12d-f3ca-4f8f-a480-af377ad6898c",
   "metadata": {},
   "source": [
    "The code adds 500 to each element in the list using a list comprehension, demonstrating a concise way to modify lists."
   ]
  },
  {
   "cell_type": "raw",
   "id": "4983bc17-5016-480f-8253-8710ec8a46e1",
   "metadata": {},
   "source": [
    "V. Enumerate\n",
    "Enumerate() adds a counter to an iterable, returning both the index and the element during iteration."
   ]
  },
  {
   "cell_type": "code",
   "execution_count": 44,
   "id": "e00fdd63-9ff1-47af-b834-9d2108e1fbd9",
   "metadata": {},
   "outputs": [
    {
     "name": "stdout",
     "output_type": "stream",
     "text": [
      "Index: 0, Element: 1225\n",
      "Index: 1, Element: 4986\n",
      "Index: 2, Element: 6789\n",
      "Index: 3, Element: 7890\n",
      "Index: 4, Element: 2345\n",
      "Index: 5, Element: 6783\n",
      "Index: 6, Element: 987\n",
      "Index: 7, Element: 1234\n",
      "Index: 8, Element: 8765\n",
      "Index: 9, Element: 3456\n"
     ]
    }
   ],
   "source": [
    "# Using enumerate to access both index and element\n",
    "for index, element in enumerate(my_list):\n",
    "    print(f\"Index: {index}, Element: {element}\")"
   ]
  },
  {
   "cell_type": "raw",
   "id": "b882b09f-b4f6-486f-adfd-51a71d31286e",
   "metadata": {},
   "source": [
    "The enumerate() function is used to simplify the process of getting both the index and element during iteration.\n"
   ]
  },
  {
   "cell_type": "raw",
   "id": "dfe90669-43e5-43dd-a655-4a6950961959",
   "metadata": {},
   "source": [
    "VI. Iter function and next function\n",
    "Iter() creates an iterator from a list, and next() retrieves the next item in the sequence."
   ]
  },
  {
   "cell_type": "code",
   "execution_count": 45,
   "id": "24718d3e-7bf8-49e9-a398-888edbdc8539",
   "metadata": {},
   "outputs": [
    {
     "name": "stdout",
     "output_type": "stream",
     "text": [
      "1225\n",
      "4986\n"
     ]
    }
   ],
   "source": [
    "# Using iter() to create an iterator and next() to retrieve elements \n",
    "iterator = iter(my_list)\n",
    "# Fetching elements manually using next() \n",
    "print(next(iterator)) # 1225 \n",
    "print(next(iterator)) # 4986"
   ]
  },
  {
   "cell_type": "raw",
   "id": "c2c3b45b-f7a3-4ef8-b7b3-82a8d3541c23",
   "metadata": {},
   "source": [
    "The iter() function creates an iterator, and next() retrieves elements one at a time, demonstrating control over iteration."
   ]
  },
  {
   "cell_type": "raw",
   "id": "cfdee55f-f6eb-4f6a-a99d-9da674c7ee3c",
   "metadata": {},
   "source": [
    "VII. Map function\n",
    "Map() applies a function to all items in an input list."
   ]
  },
  {
   "cell_type": "code",
   "execution_count": 46,
   "id": "5d451372-a9b1-4d65-bfac-34045464a426",
   "metadata": {},
   "outputs": [
    {
     "name": "stdout",
     "output_type": "stream",
     "text": [
      "Doubled List: [2450, 9972, 13578, 15780, 4690, 13566, 1974, 2468, 17530, 6912]\n"
     ]
    }
   ],
   "source": [
    "# Doubling each element in the list using map() and lambda\n",
    "doubled_list = list(map(lambda x: x * 2, my_list))\n",
    "print(\"Doubled List:\", doubled_list)"
   ]
  },
  {
   "cell_type": "raw",
   "id": "9233b930-20d6-40ed-afa2-aa9ed7e3ec53",
   "metadata": {},
   "source": [
    "The map() function is used with a lambda to apply a transformation to each list element, demonstrating functional programming."
   ]
  },
  {
   "cell_type": "raw",
   "id": "c73641e0-782f-4505-9d6d-d675565aabbf",
   "metadata": {},
   "source": [
    "VIII. Using zip\n",
    "Zip() combines elements from multiple iterables (like lists) into tuples."
   ]
  },
  {
   "cell_type": "code",
   "execution_count": 47,
   "id": "48bd8c71-45d5-438a-82e6-3dc6c53bb41b",
   "metadata": {},
   "outputs": [
    {
     "name": "stdout",
     "output_type": "stream",
     "text": [
      "Paired List (element, square): [(1225, 1500625), (4986, 24860196), (6789, 46090521), (7890, 62252100), (2345, 5499025), (6783, 46009089), (987, 974169), (1234, 1522756), (8765, 76825225), (3456, 11943936)]\n"
     ]
    }
   ],
   "source": [
    "# Pairing elements with their squares using zip()\n",
    "squares = [x ** 2 for x in my_list]\n",
    "paired_list = list(zip(my_list, squares))\n",
    "print(\"Paired List (element, square):\", paired_list)"
   ]
  },
  {
   "cell_type": "raw",
   "id": "e02f41b9-ec61-4af1-8135-25496e663454",
   "metadata": {},
   "source": [
    "Zip() is used to pair each element with its square, illustrating how to combine multiple sequences."
   ]
  },
  {
   "cell_type": "raw",
   "id": "e04bda5f-4d3e-4dec-9c4f-f5f3500d562b",
   "metadata": {},
   "source": [
    "IX. Using NumPy Module\n",
    "NumPy provides support for large, multi-dimensional arrays and matrices, as well as a collection of mathematical functions to operate on these arrays."
   ]
  },
  {
   "cell_type": "code",
   "execution_count": 48,
   "id": "234d4f6b-1e42-4e4d-9526-262fa12349b5",
   "metadata": {},
   "outputs": [
    {
     "name": "stdout",
     "output_type": "stream",
     "text": [
      "Squared Array using NumPy: [ 1500625 24860196 46090521 62252100  5499025 46009089   974169  1522756\n",
      " 76825225 11943936]\n"
     ]
    }
   ],
   "source": [
    "import numpy as np\n",
    "# Convert list to NumPy array and perform arithmetic operation\n",
    "np_array = np.array(my_list)\n",
    "squared_array = np_array ** 2\n",
    "print(\"Squared Array using NumPy:\", squared_array)"
   ]
  },
  {
   "cell_type": "raw",
   "id": "8b72c942-b027-4fd3-bbde-190512947001",
   "metadata": {},
   "source": [
    "The list is converted into a NumPy array to leverage efficient, vectorized operations like squaring."
   ]
  },
  {
   "cell_type": "markdown",
   "id": "a42788d2-2679-48a8-b6ac-7e1202bd998d",
   "metadata": {},
   "source": [
    "## 3. For a List A, B, C, D, E write a Python program to compute all the combinations and permutations."
   ]
  },
  {
   "cell_type": "code",
   "execution_count": 50,
   "id": "74eeb177-23cc-4dfa-b963-f06dffe3fa32",
   "metadata": {},
   "outputs": [
    {
     "name": "stdout",
     "output_type": "stream",
     "text": [
      "Permutations:\n",
      "('A', 'B', 'C', 'D', 'E')\n",
      "('A', 'B', 'C', 'E', 'D')\n",
      "('A', 'B', 'D', 'C', 'E')\n",
      "('A', 'B', 'D', 'E', 'C')\n",
      "('A', 'B', 'E', 'C', 'D')\n",
      "('A', 'B', 'E', 'D', 'C')\n",
      "('A', 'C', 'B', 'D', 'E')\n",
      "('A', 'C', 'B', 'E', 'D')\n",
      "('A', 'C', 'D', 'B', 'E')\n",
      "('A', 'C', 'D', 'E', 'B')\n",
      "('A', 'C', 'E', 'B', 'D')\n",
      "('A', 'C', 'E', 'D', 'B')\n",
      "('A', 'D', 'B', 'C', 'E')\n",
      "('A', 'D', 'B', 'E', 'C')\n",
      "('A', 'D', 'C', 'B', 'E')\n",
      "('A', 'D', 'C', 'E', 'B')\n",
      "('A', 'D', 'E', 'B', 'C')\n",
      "('A', 'D', 'E', 'C', 'B')\n",
      "('A', 'E', 'B', 'C', 'D')\n",
      "('A', 'E', 'B', 'D', 'C')\n",
      "('A', 'E', 'C', 'B', 'D')\n",
      "('A', 'E', 'C', 'D', 'B')\n",
      "('A', 'E', 'D', 'B', 'C')\n",
      "('A', 'E', 'D', 'C', 'B')\n",
      "('B', 'A', 'C', 'D', 'E')\n",
      "('B', 'A', 'C', 'E', 'D')\n",
      "('B', 'A', 'D', 'C', 'E')\n",
      "('B', 'A', 'D', 'E', 'C')\n",
      "('B', 'A', 'E', 'C', 'D')\n",
      "('B', 'A', 'E', 'D', 'C')\n",
      "('B', 'C', 'A', 'D', 'E')\n",
      "('B', 'C', 'A', 'E', 'D')\n",
      "('B', 'C', 'D', 'A', 'E')\n",
      "('B', 'C', 'D', 'E', 'A')\n",
      "('B', 'C', 'E', 'A', 'D')\n",
      "('B', 'C', 'E', 'D', 'A')\n",
      "('B', 'D', 'A', 'C', 'E')\n",
      "('B', 'D', 'A', 'E', 'C')\n",
      "('B', 'D', 'C', 'A', 'E')\n",
      "('B', 'D', 'C', 'E', 'A')\n",
      "('B', 'D', 'E', 'A', 'C')\n",
      "('B', 'D', 'E', 'C', 'A')\n",
      "('B', 'E', 'A', 'C', 'D')\n",
      "('B', 'E', 'A', 'D', 'C')\n",
      "('B', 'E', 'C', 'A', 'D')\n",
      "('B', 'E', 'C', 'D', 'A')\n",
      "('B', 'E', 'D', 'A', 'C')\n",
      "('B', 'E', 'D', 'C', 'A')\n",
      "('C', 'A', 'B', 'D', 'E')\n",
      "('C', 'A', 'B', 'E', 'D')\n",
      "('C', 'A', 'D', 'B', 'E')\n",
      "('C', 'A', 'D', 'E', 'B')\n",
      "('C', 'A', 'E', 'B', 'D')\n",
      "('C', 'A', 'E', 'D', 'B')\n",
      "('C', 'B', 'A', 'D', 'E')\n",
      "('C', 'B', 'A', 'E', 'D')\n",
      "('C', 'B', 'D', 'A', 'E')\n",
      "('C', 'B', 'D', 'E', 'A')\n",
      "('C', 'B', 'E', 'A', 'D')\n",
      "('C', 'B', 'E', 'D', 'A')\n",
      "('C', 'D', 'A', 'B', 'E')\n",
      "('C', 'D', 'A', 'E', 'B')\n",
      "('C', 'D', 'B', 'A', 'E')\n",
      "('C', 'D', 'B', 'E', 'A')\n",
      "('C', 'D', 'E', 'A', 'B')\n",
      "('C', 'D', 'E', 'B', 'A')\n",
      "('C', 'E', 'A', 'B', 'D')\n",
      "('C', 'E', 'A', 'D', 'B')\n",
      "('C', 'E', 'B', 'A', 'D')\n",
      "('C', 'E', 'B', 'D', 'A')\n",
      "('C', 'E', 'D', 'A', 'B')\n",
      "('C', 'E', 'D', 'B', 'A')\n",
      "('D', 'A', 'B', 'C', 'E')\n",
      "('D', 'A', 'B', 'E', 'C')\n",
      "('D', 'A', 'C', 'B', 'E')\n",
      "('D', 'A', 'C', 'E', 'B')\n",
      "('D', 'A', 'E', 'B', 'C')\n",
      "('D', 'A', 'E', 'C', 'B')\n",
      "('D', 'B', 'A', 'C', 'E')\n",
      "('D', 'B', 'A', 'E', 'C')\n",
      "('D', 'B', 'C', 'A', 'E')\n",
      "('D', 'B', 'C', 'E', 'A')\n",
      "('D', 'B', 'E', 'A', 'C')\n",
      "('D', 'B', 'E', 'C', 'A')\n",
      "('D', 'C', 'A', 'B', 'E')\n",
      "('D', 'C', 'A', 'E', 'B')\n",
      "('D', 'C', 'B', 'A', 'E')\n",
      "('D', 'C', 'B', 'E', 'A')\n",
      "('D', 'C', 'E', 'A', 'B')\n",
      "('D', 'C', 'E', 'B', 'A')\n",
      "('D', 'E', 'A', 'B', 'C')\n",
      "('D', 'E', 'A', 'C', 'B')\n",
      "('D', 'E', 'B', 'A', 'C')\n",
      "('D', 'E', 'B', 'C', 'A')\n",
      "('D', 'E', 'C', 'A', 'B')\n",
      "('D', 'E', 'C', 'B', 'A')\n",
      "('E', 'A', 'B', 'C', 'D')\n",
      "('E', 'A', 'B', 'D', 'C')\n",
      "('E', 'A', 'C', 'B', 'D')\n",
      "('E', 'A', 'C', 'D', 'B')\n",
      "('E', 'A', 'D', 'B', 'C')\n",
      "('E', 'A', 'D', 'C', 'B')\n",
      "('E', 'B', 'A', 'C', 'D')\n",
      "('E', 'B', 'A', 'D', 'C')\n",
      "('E', 'B', 'C', 'A', 'D')\n",
      "('E', 'B', 'C', 'D', 'A')\n",
      "('E', 'B', 'D', 'A', 'C')\n",
      "('E', 'B', 'D', 'C', 'A')\n",
      "('E', 'C', 'A', 'B', 'D')\n",
      "('E', 'C', 'A', 'D', 'B')\n",
      "('E', 'C', 'B', 'A', 'D')\n",
      "('E', 'C', 'B', 'D', 'A')\n",
      "('E', 'C', 'D', 'A', 'B')\n",
      "('E', 'C', 'D', 'B', 'A')\n",
      "('E', 'D', 'A', 'B', 'C')\n",
      "('E', 'D', 'A', 'C', 'B')\n",
      "('E', 'D', 'B', 'A', 'C')\n",
      "('E', 'D', 'B', 'C', 'A')\n",
      "('E', 'D', 'C', 'A', 'B')\n",
      "('E', 'D', 'C', 'B', 'A')\n",
      "\n",
      "Combinations:\n",
      "('A', 'B')\n",
      "('A', 'C')\n",
      "('A', 'D')\n",
      "('A', 'E')\n",
      "('B', 'C')\n",
      "('B', 'D')\n",
      "('B', 'E')\n",
      "('C', 'D')\n",
      "('C', 'E')\n",
      "('D', 'E')\n"
     ]
    }
   ],
   "source": [
    "from itertools import permutations, combinations\n",
    "# List A, B, C, D, E\n",
    "elements = ['A', 'B', 'C', 'D', 'E']\n",
    "# Compute all permutations of the entire list\n",
    "perm = list(permutations(elements))\n",
    "print(\"Permutations:\")\n",
    "for p in perm:\n",
    "    print(p)\n",
    "# Compute all combinations of the entire list\n",
    "comb = list(combinations(elements, 2))\n",
    "print(\"\\nCombinations:\")\n",
    "for c in comb:\n",
    "    print(c)"
   ]
  },
  {
   "cell_type": "raw",
   "id": "06fea24a-e26a-486b-8acf-2784043b4207",
   "metadata": {},
   "source": [
    "Generating Permutations: The code generates all possible permutations of the list, considering all elements.\n",
    "● Generating Combinations: The code generates all possible combinations of 2 elements from the list."
   ]
  },
  {
   "cell_type": "markdown",
   "id": "3282fad4-3fc3-4d03-aa0c-d442a17949af",
   "metadata": {},
   "source": [
    "## 4. Using the same list, use itertools to compute permutations and combinations.\n",
    "Using the itertools module in Python to generate permutations and combinations of a list allows for more control and flexibility."
   ]
  },
  {
   "cell_type": "code",
   "execution_count": 52,
   "id": "aa9c6911-3149-4d02-9d2a-eeb067f85d96",
   "metadata": {},
   "outputs": [
    {
     "name": "stdout",
     "output_type": "stream",
     "text": [
      "All Permutations:\n",
      "('A', 'B', 'C', 'D', 'E')\n",
      "('A', 'B', 'C', 'E', 'D')\n",
      "('A', 'B', 'D', 'C', 'E')\n",
      "('A', 'B', 'D', 'E', 'C')\n",
      "('A', 'B', 'E', 'C', 'D')\n",
      "('A', 'B', 'E', 'D', 'C')\n",
      "('A', 'C', 'B', 'D', 'E')\n",
      "('A', 'C', 'B', 'E', 'D')\n",
      "('A', 'C', 'D', 'B', 'E')\n",
      "('A', 'C', 'D', 'E', 'B')\n",
      "('A', 'C', 'E', 'B', 'D')\n",
      "('A', 'C', 'E', 'D', 'B')\n",
      "('A', 'D', 'B', 'C', 'E')\n",
      "('A', 'D', 'B', 'E', 'C')\n",
      "('A', 'D', 'C', 'B', 'E')\n",
      "('A', 'D', 'C', 'E', 'B')\n",
      "('A', 'D', 'E', 'B', 'C')\n",
      "('A', 'D', 'E', 'C', 'B')\n",
      "('A', 'E', 'B', 'C', 'D')\n",
      "('A', 'E', 'B', 'D', 'C')\n",
      "('A', 'E', 'C', 'B', 'D')\n",
      "('A', 'E', 'C', 'D', 'B')\n",
      "('A', 'E', 'D', 'B', 'C')\n",
      "('A', 'E', 'D', 'C', 'B')\n",
      "('B', 'A', 'C', 'D', 'E')\n",
      "('B', 'A', 'C', 'E', 'D')\n",
      "('B', 'A', 'D', 'C', 'E')\n",
      "('B', 'A', 'D', 'E', 'C')\n",
      "('B', 'A', 'E', 'C', 'D')\n",
      "('B', 'A', 'E', 'D', 'C')\n",
      "('B', 'C', 'A', 'D', 'E')\n",
      "('B', 'C', 'A', 'E', 'D')\n",
      "('B', 'C', 'D', 'A', 'E')\n",
      "('B', 'C', 'D', 'E', 'A')\n",
      "('B', 'C', 'E', 'A', 'D')\n",
      "('B', 'C', 'E', 'D', 'A')\n",
      "('B', 'D', 'A', 'C', 'E')\n",
      "('B', 'D', 'A', 'E', 'C')\n",
      "('B', 'D', 'C', 'A', 'E')\n",
      "('B', 'D', 'C', 'E', 'A')\n",
      "('B', 'D', 'E', 'A', 'C')\n",
      "('B', 'D', 'E', 'C', 'A')\n",
      "('B', 'E', 'A', 'C', 'D')\n",
      "('B', 'E', 'A', 'D', 'C')\n",
      "('B', 'E', 'C', 'A', 'D')\n",
      "('B', 'E', 'C', 'D', 'A')\n",
      "('B', 'E', 'D', 'A', 'C')\n",
      "('B', 'E', 'D', 'C', 'A')\n",
      "('C', 'A', 'B', 'D', 'E')\n",
      "('C', 'A', 'B', 'E', 'D')\n",
      "('C', 'A', 'D', 'B', 'E')\n",
      "('C', 'A', 'D', 'E', 'B')\n",
      "('C', 'A', 'E', 'B', 'D')\n",
      "('C', 'A', 'E', 'D', 'B')\n",
      "('C', 'B', 'A', 'D', 'E')\n",
      "('C', 'B', 'A', 'E', 'D')\n",
      "('C', 'B', 'D', 'A', 'E')\n",
      "('C', 'B', 'D', 'E', 'A')\n",
      "('C', 'B', 'E', 'A', 'D')\n",
      "('C', 'B', 'E', 'D', 'A')\n",
      "('C', 'D', 'A', 'B', 'E')\n",
      "('C', 'D', 'A', 'E', 'B')\n",
      "('C', 'D', 'B', 'A', 'E')\n",
      "('C', 'D', 'B', 'E', 'A')\n",
      "('C', 'D', 'E', 'A', 'B')\n",
      "('C', 'D', 'E', 'B', 'A')\n",
      "('C', 'E', 'A', 'B', 'D')\n",
      "('C', 'E', 'A', 'D', 'B')\n",
      "('C', 'E', 'B', 'A', 'D')\n",
      "('C', 'E', 'B', 'D', 'A')\n",
      "('C', 'E', 'D', 'A', 'B')\n",
      "('C', 'E', 'D', 'B', 'A')\n",
      "('D', 'A', 'B', 'C', 'E')\n",
      "('D', 'A', 'B', 'E', 'C')\n",
      "('D', 'A', 'C', 'B', 'E')\n",
      "('D', 'A', 'C', 'E', 'B')\n",
      "('D', 'A', 'E', 'B', 'C')\n",
      "('D', 'A', 'E', 'C', 'B')\n",
      "('D', 'B', 'A', 'C', 'E')\n",
      "('D', 'B', 'A', 'E', 'C')\n",
      "('D', 'B', 'C', 'A', 'E')\n",
      "('D', 'B', 'C', 'E', 'A')\n",
      "('D', 'B', 'E', 'A', 'C')\n",
      "('D', 'B', 'E', 'C', 'A')\n",
      "('D', 'C', 'A', 'B', 'E')\n",
      "('D', 'C', 'A', 'E', 'B')\n",
      "('D', 'C', 'B', 'A', 'E')\n",
      "('D', 'C', 'B', 'E', 'A')\n",
      "('D', 'C', 'E', 'A', 'B')\n",
      "('D', 'C', 'E', 'B', 'A')\n",
      "('D', 'E', 'A', 'B', 'C')\n",
      "('D', 'E', 'A', 'C', 'B')\n",
      "('D', 'E', 'B', 'A', 'C')\n",
      "('D', 'E', 'B', 'C', 'A')\n",
      "('D', 'E', 'C', 'A', 'B')\n",
      "('D', 'E', 'C', 'B', 'A')\n",
      "('E', 'A', 'B', 'C', 'D')\n",
      "('E', 'A', 'B', 'D', 'C')\n",
      "('E', 'A', 'C', 'B', 'D')\n",
      "('E', 'A', 'C', 'D', 'B')\n",
      "('E', 'A', 'D', 'B', 'C')\n",
      "('E', 'A', 'D', 'C', 'B')\n",
      "('E', 'B', 'A', 'C', 'D')\n",
      "('E', 'B', 'A', 'D', 'C')\n",
      "('E', 'B', 'C', 'A', 'D')\n",
      "('E', 'B', 'C', 'D', 'A')\n",
      "('E', 'B', 'D', 'A', 'C')\n",
      "('E', 'B', 'D', 'C', 'A')\n",
      "('E', 'C', 'A', 'B', 'D')\n",
      "('E', 'C', 'A', 'D', 'B')\n",
      "('E', 'C', 'B', 'A', 'D')\n",
      "('E', 'C', 'B', 'D', 'A')\n",
      "('E', 'C', 'D', 'A', 'B')\n",
      "('E', 'C', 'D', 'B', 'A')\n",
      "('E', 'D', 'A', 'B', 'C')\n",
      "('E', 'D', 'A', 'C', 'B')\n",
      "('E', 'D', 'B', 'A', 'C')\n",
      "('E', 'D', 'B', 'C', 'A')\n",
      "('E', 'D', 'C', 'A', 'B')\n",
      "('E', 'D', 'C', 'B', 'A')\n",
      "\n",
      "Combinations (Length 3):\n",
      "('A', 'B', 'C')\n",
      "('A', 'B', 'D')\n",
      "('A', 'B', 'E')\n",
      "('A', 'C', 'D')\n",
      "('A', 'C', 'E')\n",
      "('A', 'D', 'E')\n",
      "('B', 'C', 'D')\n",
      "('B', 'C', 'E')\n",
      "('B', 'D', 'E')\n",
      "('C', 'D', 'E')\n"
     ]
    }
   ],
   "source": [
    "from itertools import permutations, combinations\n",
    "# List A, B, C, D, E\n",
    "elements = ['A', 'B', 'C', 'D', 'E']\n",
    "# Compute permutations of all elements\n",
    "all_perm = list(permutations(elements))\n",
    "print(\"All Permutations:\")\n",
    "for p in all_perm:\n",
    "    print(p)\n",
    "# Compute combinations of length 3\n",
    "comb = list(combinations(elements, 3))\n",
    "print(\"\\nCombinations (Length 3):\")\n",
    "for c in comb:\n",
    "    print(c)"
   ]
  },
  {
   "cell_type": "raw",
   "id": "07135b47-79e7-40b7-81e3-d6a5807eab35",
   "metadata": {},
   "source": [
    "This code computes and displays all possible permutations of the elements in the list.\n",
    "● The code then computes all combinations of 3 elements from the list."
   ]
  },
  {
   "cell_type": "code",
   "execution_count": null,
   "id": "ee1fcafc-d1cc-4a4b-bec0-cf54f9e8d443",
   "metadata": {},
   "outputs": [],
   "source": []
  }
 ],
 "metadata": {
  "kernelspec": {
   "display_name": "Python 3 (ipykernel)",
   "language": "python",
   "name": "python3"
  },
  "language_info": {
   "codemirror_mode": {
    "name": "ipython",
    "version": 3
   },
   "file_extension": ".py",
   "mimetype": "text/x-python",
   "name": "python",
   "nbconvert_exporter": "python",
   "pygments_lexer": "ipython3",
   "version": "3.12.4"
  }
 },
 "nbformat": 4,
 "nbformat_minor": 5
}
